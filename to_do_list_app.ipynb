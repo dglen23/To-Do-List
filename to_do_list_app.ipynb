{
  "nbformat": 4,
  "nbformat_minor": 0,
  "metadata": {
    "colab": {
      "provenance": []
    },
    "kernelspec": {
      "name": "python3",
      "display_name": "Python 3"
    },
    "language_info": {
      "name": "python"
    }
  },
  "cells": [
    {
      "cell_type": "code",
      "execution_count": null,
      "metadata": {
        "colab": {
          "base_uri": "https://localhost:8080/"
        },
        "id": "rlAz1pVWTZCN",
        "outputId": "bf3ae854-9573-4da3-b5f2-975b85e4ad25"
      },
      "outputs": [
        {
          "output_type": "stream",
          "name": "stdout",
          "text": [
            "Welcome to MyList!\n",
            "Enter your first name: Drew\n",
            "Enter your last name: Glen\n",
            "\n",
            "Hello, Drew Glen!\n",
            "Would you like to create your own To-Do List with us? (yes or no): yes\n",
            " \n",
            "Empty To-Do List\n",
            "[]\n",
            " \n",
            "How many activities would you like to add to your list?: 3\n",
            "Activity 1 :\n",
            "Enter the task: Workout\n",
            "Enter the time (HH:MM AM/PM) the task should be done by: 12:00 PM\n",
            "Activity 2 :\n",
            "Enter the task: Eat\n",
            "Enter the time (HH:MM AM/PM) the task should be done by: 2:00 PM\n",
            "Activity 3 :\n",
            "Enter the task: Sleep\n",
            "Enter the time (HH:MM AM/PM) the task should be done by: 9:00 PM\n",
            " \n",
            "Your To-Do List:\n",
            "Workout - Due by 12:00 PM\n",
            "Eat - Due by 02:00 PM\n",
            "Sleep - Due by 09:00 PM\n",
            " \n",
            "Would you like to add or remove activities from your list?\n",
            "If you decided that you're satisfied with your list, type Done.\n",
            "(Add/Remove/Done): Done\n",
            "Thanks for using our services! Enjoy your Day!!!\n",
            "\n",
            "Thanks for coming, Drew! See you next time!\n"
          ]
        }
      ],
      "source": [
        "from datetime import datetime, timedelta\n",
        "\n",
        "def todolist():\n",
        "    print(\" \")\n",
        "    print(\"Empty To-Do List\")\n",
        "    todolist = []\n",
        "    print(todolist)\n",
        "    print(\" \")\n",
        "    itemsx = int(input('How many activities would you like to add to your list?: '))\n",
        "\n",
        "    for i in range(itemsx):\n",
        "        print(\"Activity\", i + 1, \":\")\n",
        "        items = input(\"Enter the task: \")\n",
        "\n",
        "        # Ask for the time the task should be done by\n",
        "        time_str = input(\"Enter the time (HH:MM AM/PM) the task should be done by: \")\n",
        "        task_time = datetime.strptime(time_str, \"%I:%M %p\").time()  # Convert input to time object\n",
        "\n",
        "        todolist.append({\"task\": items, \"time\": task_time})\n",
        "\n",
        "    print(\" \")\n",
        "    print(\"Your To-Do List:\")\n",
        "    for task in todolist:\n",
        "        print(f\"{task['task']} - Due by {task['time'].strftime('%I:%M %p')}\")\n",
        "\n",
        "    print(\" \")\n",
        "    print(\"Would you like to add or remove activities from your list?\")\n",
        "    print(\"If you decided that you're satisfied with your list, type Done.\")\n",
        "\n",
        "    addfin = input(\"(Add/Remove/Done): \")\n",
        "\n",
        "    if addfin.lower() == \"add\":\n",
        "        newitem = input(\"Enter your new task: \")\n",
        "        time_str = input(\"Enter the time (HH:MM AM/PM) the task should be done by: \")\n",
        "        task_time = datetime.strptime(time_str, \"%I:%M %p\").time()\n",
        "\n",
        "        todolist.append({\"task\": newitem, \"time\": task_time})\n",
        "\n",
        "    elif addfin.lower() == \"remove\":\n",
        "        remitem = input(\"Enter the task you wish to remove: \")\n",
        "        todolist = [task for task in todolist if task['task'] != remitem]\n",
        "\n",
        "    elif addfin.lower() == \"done\":\n",
        "        print(\"Thanks for using our services! Enjoy your Day!!!\")\n",
        "\n",
        "    else:\n",
        "        print(\"Sorry, your input is invalid!\")\n",
        "\n",
        "# Start up Menu\n",
        "print(\"Welcome to MyList!\")\n",
        "fname = input(\"Enter your first name: \")\n",
        "lname = input(\"Enter your last name: \")\n",
        "print(f\"\\nHello, {fname} {lname}!\")\n",
        "\n",
        "q1 = input(\"Would you like to create your own To-Do List with us? (yes or no): \")\n",
        "\n",
        "if q1.lower() == \"yes\":\n",
        "    todolist()\n",
        "    print(f\"\\nThanks for coming {fname}! See you next time!\")\n",
        "elif q1.lower() == \"no\":\n",
        "    print(f\"Thanks for coming {fname}! See you next time!\")\n",
        "else:\n",
        "    print(f\"Sorry {fname}, your input is invalid!\")\n"
      ]
    }
  ]
}